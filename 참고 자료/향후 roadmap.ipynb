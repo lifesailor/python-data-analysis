{
 "cells": [
  {
   "cell_type": "markdown",
   "metadata": {},
   "source": [
    "# 1. Package 관리"
   ]
  },
  {
   "cell_type": "markdown",
   "metadata": {},
   "source": [
    "실행\n",
    "\n",
    "pip install -r requirements.txt\n",
    "\n",
    "현재 Python 환경의 의존성을 모두 모으기\n",
    "\n",
    "pip freeze > requirements.txt"
   ]
  },
  {
   "cell_type": "markdown",
   "metadata": {},
   "source": [
    "# 2. 딥러닝 FAQ"
   ]
  },
  {
   "cell_type": "markdown",
   "metadata": {},
   "source": [
    "https://github.com/Kyubyong/dl_career_faq"
   ]
  },
  {
   "cell_type": "markdown",
   "metadata": {},
   "source": [
    "# 3. 수학 공부"
   ]
  },
  {
   "cell_type": "markdown",
   "metadata": {},
   "source": [
    "\"Linear algebra and probability are critical subjects for a data scientist to master if he/she wants to become an expert in this field\"\n",
    "\n",
    "Ian Goodfellow가 Andrew Ng과의 인터뷰에서 한말인데 모든 분들이 공감하시는 내용일듯 합니다."
   ]
  },
  {
   "cell_type": "markdown",
   "metadata": {},
   "source": [
    "- 선형대수학: 이상화(한양대학교): http://www.kocw.net/home/search/kemView.do?kemId=977757&ar=relateCourse\n",
    "\n",
    "- 선형대수학: 인공지능을 위한 선형대수:     https://www.edwith.org/linearalgebra4ai/joinLectures/14072\n",
    "\n",
    "- 확률 및 통계: 이상화(한양대학교): https://youtu.be/2ewO_6msPbA"
   ]
  },
  {
   "cell_type": "markdown",
   "metadata": {},
   "source": [
    "# 4. 머신러닝 공부"
   ]
  },
  {
   "cell_type": "markdown",
   "metadata": {},
   "source": [
    "## 이론\n",
    "\n",
    "- Introduction to Statistical Learning(pdf): https://www-bcf.usc.edu/~gareth/ISL/ISLR%20First%20Printing.pdf\n",
    "\n",
    "- Machine Learning(Andrew Ng): https://www.coursera.org/learn/machine-learning/home/welcome\n",
    "\n",
    "\n",
    "## 실습\n",
    "\n",
    "- 파이썬 라이브러리를 활용한 데이터 분석(한빛미디어)\n",
    "\n",
    "- 파이썬 라이브러리를 활용한 머신러닝(한빛미디어)\n",
    "\n",
    "- 핸즈온 머신러닝(한빛미디어)"
   ]
  },
  {
   "cell_type": "markdown",
   "metadata": {},
   "source": [
    "## 5. 딥러닝 공부"
   ]
  },
  {
   "cell_type": "markdown",
   "metadata": {},
   "source": [
    "## 이론\n",
    "\n",
    "- 밑바닥부터 시작하는 딥러닝(책, 한빛미디어)\n",
    "\n",
    "- 영상 인식: Convolutional Neural Networks for Visual Recognition: http://cs231n.stanford.edu/\n",
    "\n",
    "- 자연어 처리: Natural Language Processing with Deep Learning: http://web.stanford.edu/class/cs224n/\n",
    "\n",
    "- Deep Learning book: http://www.deeplearningbook.org/\n",
    "\n",
    "## 실습\n",
    "\n",
    "- 밑바닥부터 시작하는 딥러닝(책, 한빛미디어)\n",
    "\n",
    "- 핸즈온 머신러닝(책, 한빛미디어)"
   ]
  },
  {
   "cell_type": "code",
   "execution_count": null,
   "metadata": {},
   "outputs": [],
   "source": []
  }
 ],
 "metadata": {
  "kernelspec": {
   "display_name": "Python 3",
   "language": "python",
   "name": "python3"
  },
  "language_info": {
   "codemirror_mode": {
    "name": "ipython",
    "version": 3
   },
   "file_extension": ".py",
   "mimetype": "text/x-python",
   "name": "python",
   "nbconvert_exporter": "python",
   "pygments_lexer": "ipython3",
   "version": "3.6.6"
  }
 },
 "nbformat": 4,
 "nbformat_minor": 2
}
